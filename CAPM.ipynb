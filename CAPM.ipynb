{
  "nbformat": 4,
  "nbformat_minor": 0,
  "metadata": {
    "colab": {
      "provenance": [],
      "toc_visible": true,
      "authorship_tag": "ABX9TyOzdOa+wE4VmgT6Zc7Yl2B7",
      "include_colab_link": true
    },
    "kernelspec": {
      "name": "python3",
      "display_name": "Python 3"
    },
    "language_info": {
      "name": "python"
    }
  },
  "cells": [
    {
      "cell_type": "markdown",
      "metadata": {
        "id": "view-in-github",
        "colab_type": "text"
      },
      "source": [
        "<a href=\"https://colab.research.google.com/github/5791nbm/FinCoLab/blob/main/CAPM.ipynb\" target=\"_parent\"><img src=\"https://colab.research.google.com/assets/colab-badge.svg\" alt=\"Open In Colab\"/></a>"
      ]
    },
    {
      "cell_type": "markdown",
      "source": [
        "# Capital Asset Pricing Model (CAPM)\n",
        "\n",
        "E[r<sub>a</sub>] = r<sub>f</sub> + B<sub>a</sub>(E[r<sub>m</sub>] - r<sub>f</sub>)\n",
        "\n",
        "Expression of linear relationship between any stock and expected return and the market premium\n",
        "\n",
        "\n",
        "*   E[r<sub>a</sub>] is the Expected return of investment A (a single stock or portfolio)\n",
        "*   r<sub>f</sub> is the risk free rate of return for a \"riskless\" asset\n",
        "*   (E[r<sub>m</sub>] - r<sub>f</sub>) is the excess return of the market premium multiplied by a factor\n",
        "*   B<sub>a</sub> = Cov(r<sub>a</sub>,r<sub>m</sub>) / Var(r<sub>m</sub>). Defines how risky your portfolio is relative to the market or how much the price of a stock goes up or down relative to the market.\n",
        "\n",
        "# Linear Regression Formula:\n",
        "\n",
        "E[r<sub>a</sub>] - r<sub>f</sub> = *a* + B<sub>a</sub>(E[r<sub>m</sub>] - r<sub>f</sub>)\n",
        "\n",
        "\n"
      ],
      "metadata": {
        "id": "3UOhUSY3mCu2"
      }
    },
    {
      "cell_type": "code",
      "execution_count": null,
      "metadata": {
        "id": "ikWKsIA-gC8P"
      },
      "outputs": [],
      "source": []
    }
  ]
}