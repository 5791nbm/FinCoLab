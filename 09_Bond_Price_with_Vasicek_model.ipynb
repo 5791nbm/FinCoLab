{
  "nbformat": 4,
  "nbformat_minor": 0,
  "metadata": {
    "colab": {
      "provenance": [],
      "authorship_tag": "ABX9TyOKa20BD2Gp7e4MaWRUMI06",
      "include_colab_link": true
    },
    "kernelspec": {
      "name": "python3",
      "display_name": "Python 3"
    },
    "language_info": {
      "name": "python"
    }
  },
  "cells": [
    {
      "cell_type": "markdown",
      "metadata": {
        "id": "view-in-github",
        "colab_type": "text"
      },
      "source": [
        "<a href=\"https://colab.research.google.com/github/5791nbm/FinCoLab/blob/main/09_Bond_Price_with_Vasicek_model.ipynb\" target=\"_parent\"><img src=\"https://colab.research.google.com/assets/colab-badge.svg\" alt=\"Open In Colab\"/></a>"
      ]
    },
    {
      "cell_type": "markdown",
      "source": [],
      "metadata": {
        "id": "WGqJKIKoCsah"
      }
    },
    {
      "cell_type": "code",
      "source": [
        "import pandas as pd\n",
        "import numpy as np\n",
        "import matplotlib.pyplot as plt"
      ],
      "metadata": {
        "id": "uTwI4TZkCr_e"
      },
      "execution_count": 1,
      "outputs": []
    },
    {
      "cell_type": "code",
      "source": [
        "# Simulate 1000 r(t) interest rate processes\n",
        "NUM_OF_SIMULATIONS = 1000\n",
        "# These are the number of points in a single r(t) process\n",
        "NUM_OF_POINTS = 200"
      ],
      "metadata": {
        "id": "IZmYErOADNMS"
      },
      "execution_count": 2,
      "outputs": []
    },
    {
      "cell_type": "code",
      "source": [
        "from re import S\n",
        "def monte_carlo_simulation(x, r0, kappa, theta, sigma, T=1.):\n",
        "  dt = T/float(NUM_OF_POINTS)\n",
        "  result = []\n",
        "\n",
        "  for _ in range(NUM_OF_SIMULATIONS):\n",
        "    rates = [r0]\n",
        "    for _ in range(NUM_OF_POINTS):\n",
        "      dr = kappa*(theta-rates[-1])*dt + sigma*np.sqrt(dt)*np.random.normal()\n",
        "      rates.append(rates[-1] + dr)\n",
        "    result.append(rates)\n",
        "  simulation_data = pd.DataFrame(result)\n",
        "  '''\n",
        "  #print(simulation_data.T)\n",
        "  plt.plot(simulation_data.T)\n",
        "  plt.figure(figsize=(15,10))\n",
        "  plt.show()\n",
        "  '''\n",
        "\n",
        "  simulation_data = simulation_data.T\n",
        "\n",
        "  #calc the intergal of the r(t0) based on the simulated paths\n",
        "  intergral_sum = simulation_data.sum()*dt\n",
        "  #PV of future cash flow\n",
        "  present_intergral_sum = np.exp(-intergral_sum)\n",
        "  #mean because the intergral is the average\n",
        "  bond_price = x * np.mean(present_intergral_sum)\n",
        "  print('Bond price based on the Monte-Carlo simulation: $%.2f' % bond_price)\n",
        "  return bond_price\n",
        "\n",
        "\n",
        "if __name__ == '__main__':\n",
        "\n",
        "  x=1000\n",
        "  r0 = 0.1\n",
        "  kappa = 0.3\n",
        "  theta = 0.3\n",
        "  sigma = 0.03\n",
        "\n",
        "  monte_carlo_simulation(x, r0, kappa, theta, sigma)"
      ],
      "metadata": {
        "colab": {
          "base_uri": "https://localhost:8080/"
        },
        "id": "QLQHzdDHDNKx",
        "outputId": "69fc86cd-7219-47f2-98ce-c35445d957ba"
      },
      "execution_count": 19,
      "outputs": [
        {
          "output_type": "stream",
          "name": "stdout",
          "text": [
            "Bond price based on the Monte-Carlo simulation: $879.79\n"
          ]
        }
      ]
    }
  ]
}