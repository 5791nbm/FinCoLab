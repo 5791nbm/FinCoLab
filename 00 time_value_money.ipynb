{
  "cells": [
    {
      "cell_type": "markdown",
      "metadata": {
        "id": "view-in-github",
        "colab_type": "text"
      },
      "source": [
        "<a href=\"https://colab.research.google.com/github/5791nbm/FinCoLab/blob/main/time_value_money.ipynb\" target=\"_parent\"><img src=\"https://colab.research.google.com/assets/colab-badge.svg\" alt=\"Open In Colab\"/></a>"
      ]
    },
    {
      "cell_type": "markdown",
      "source": [
        "Time Value of Money\n",
        "\n",
        "*   Import Library\n",
        "*   Create Functions\n",
        "*   Call funcions\n",
        "\n",
        "\n",
        "\n",
        "\n"
      ],
      "metadata": {
        "id": "b9Nz-7morS74"
      }
    },
    {
      "cell_type": "code",
      "source": [
        "from math import exp\n",
        "\n",
        "def FV_discrete(x,r,n):\n",
        "  return round(x*(1+r)**n,2)\n",
        "def PV_discrete(x,r,n):\n",
        "  return round(x*(1+r)**-n,2)\n",
        "  # return round(x/(1+r)**n,2)\n",
        "def FV_continuous(x,r,t):\n",
        "  return round(x*exp(r*t),2)\n",
        "def PV_continuous(x,r,t):\n",
        "  return round(x*exp(-r*t),2)\n",
        "\n",
        "if __name__ == '__main__':\n",
        "  #investment value\n",
        "  x=100\n",
        "  #interest rate (r)\n",
        "  r=0.05\n",
        "  #duration (years)\n",
        "  n=5\n",
        "\n",
        "print('FV of x (discrete): %s' %FV_discrete(x,r,n))\n",
        "print('PV of x (discrete): %s' %PV_discrete(x,r,n))\n",
        "print('FV of x (continuous): %s' %FV_continuous(x,r,n))\n",
        "print('PV of x (continuous): %s' %PV_continuous(x,r,n))\n",
        "\n"
      ],
      "metadata": {
        "id": "5F9w-DOjrtMg",
        "outputId": "0610fb0a-675e-4d9a-a7b8-9507236b81dc",
        "colab": {
          "base_uri": "https://localhost:8080/"
        }
      },
      "execution_count": 6,
      "outputs": [
        {
          "output_type": "stream",
          "name": "stdout",
          "text": [
            "FV of x (discrete): 127.63\n",
            "PV of x (discrete): 78.35\n",
            "FV of x (continuous): 128.4\n",
            "PV of x (continuous): 77.88\n"
          ]
        }
      ]
    }
  ],
  "metadata": {
    "colab": {
      "name": "Overview of Colaboratory Features",
      "provenance": [],
      "include_colab_link": true
    },
    "kernelspec": {
      "display_name": "Python 3",
      "name": "python3"
    }
  },
  "nbformat": 4,
  "nbformat_minor": 0
}
