{
  "cells": [
    {
      "cell_type": "markdown",
      "metadata": {
        "id": "view-in-github",
        "colab_type": "text"
      },
      "source": [
        "<a href=\"https://colab.research.google.com/github/5791nbm/FinCoLab/blob/main/00%20time_value_money.ipynb\" target=\"_parent\"><img src=\"https://colab.research.google.com/assets/colab-badge.svg\" alt=\"Open In Colab\"/></a>"
      ]
    },
    {
      "cell_type": "markdown",
      "source": [
        "Time Value of Money\n",
        "\n",
        "*   Import Library\n",
        "*   Create Functions\n",
        "*   Call funcions\n",
        "\n",
        "\n",
        "\n",
        "\n"
      ],
      "metadata": {
        "id": "b9Nz-7morS74"
      }
    },
    {
      "cell_type": "code",
      "source": [
        "from math import exp\n",
        "\n",
        "def FV_discrete(x, r, n):\n",
        "    \"\"\"\n",
        "    Calculate the future value of an investment with discrete compounding.\n",
        "\n",
        "    Parameters:\n",
        "    x (float): The initial investment amount.\n",
        "    r (float): The annual interest rate (as a decimal).\n",
        "    n (int): The number of years the money is invested for.\n",
        "\n",
        "    Returns:\n",
        "    float: The future value of the investment, rounded to 2 decimal places.\n",
        "    \"\"\"\n",
        "    return round(x * (1 + r) ** n, 2)\n",
        "\n",
        "def PV_discrete(x, r, n):\n",
        "    \"\"\"\n",
        "    Calculate the present value of an investment with discrete compounding.\n",
        "\n",
        "    Parameters:\n",
        "    x (float): The future value of the investment.\n",
        "    r (float): The annual interest rate (as a decimal).\n",
        "    n (int): The number of years until the future value is realized.\n",
        "\n",
        "    Returns:\n",
        "    float: The present value of the investment, rounded to 2 decimal places.\n",
        "    \"\"\"\n",
        "    return round(x * (1 + r) ** -n, 2)\n",
        "\n",
        "def FV_continuous(x, r, t):\n",
        "    \"\"\"\n",
        "    Calculate the future value of an investment with continuous compounding.\n",
        "\n",
        "    Parameters:\n",
        "    x (float): The initial investment amount.\n",
        "    r (float): The annual interest rate (as a decimal).\n",
        "    t (float): The number of years the money is invested for.\n",
        "\n",
        "    Returns:\n",
        "    float: The future value of the investment, rounded to 2 decimal places.\n",
        "    \"\"\"\n",
        "    return round(x * exp(r * t), 2)\n",
        "\n",
        "def PV_continuous(x, r, t):\n",
        "    \"\"\"\n",
        "    Calculate the present value of an investment with continuous compounding.\n",
        "\n",
        "    Parameters:\n",
        "    x (float): The future value of the investment.\n",
        "    r (float): The annual interest rate (as a decimal).\n",
        "    t (float): The number of years until the future value is realized.\n",
        "\n",
        "    Returns:\n",
        "    float: The present value of the investment, rounded to 2 decimal places.\n",
        "    \"\"\"\n",
        "    return round(x * exp(-r * t), 2)\n",
        "\n",
        "if __name__ == '__main__':\n",
        "    # Investment value\n",
        "    x = 100\n",
        "    # Interest rate (r)\n",
        "    r = 0.05\n",
        "    # Duration (years)\n",
        "    n = 5\n",
        "\n",
        "    print('FV of x (discrete): %s' % FV_discrete(x, r, n))\n",
        "    print('PV of x (discrete): %s' % PV_discrete(x, r, n))\n",
        "    print('FV of x (continuous): %s' % FV_continuous(x, r, n))\n",
        "    print('PV of x (continuous): %s' % PV_continuous(x, r, n))"
      ],
      "metadata": {
        "id": "5F9w-DOjrtMg",
        "outputId": "aaf59ea1-e628-48a3-e7c6-5e99ea720974",
        "colab": {
          "base_uri": "https://localhost:8080/"
        }
      },
      "execution_count": 1,
      "outputs": [
        {
          "output_type": "stream",
          "name": "stdout",
          "text": [
            "FV of x (discrete): 127.63\n",
            "PV of x (discrete): 78.35\n",
            "FV of x (continuous): 128.4\n",
            "PV of x (continuous): 77.88\n"
          ]
        }
      ]
    }
  ],
  "metadata": {
    "colab": {
      "name": "Overview of Colaboratory Features",
      "provenance": [],
      "include_colab_link": true
    },
    "kernelspec": {
      "display_name": "Python 3",
      "name": "python3"
    }
  },
  "nbformat": 4,
  "nbformat_minor": 0
}