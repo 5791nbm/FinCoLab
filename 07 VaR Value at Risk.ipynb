{
  "nbformat": 4,
  "nbformat_minor": 0,
  "metadata": {
    "colab": {
      "provenance": [],
      "authorship_tag": "ABX9TyMaHJAqsP1Vimrxl9EzrQJK",
      "include_colab_link": true
    },
    "kernelspec": {
      "name": "python3",
      "display_name": "Python 3"
    },
    "language_info": {
      "name": "python"
    }
  },
  "cells": [
    {
      "cell_type": "markdown",
      "metadata": {
        "id": "view-in-github",
        "colab_type": "text"
      },
      "source": [
        "<a href=\"https://colab.research.google.com/github/5791nbm/FinCoLab/blob/main/07%20VaR%20Value%20at%20Risk.ipynb\" target=\"_parent\"><img src=\"https://colab.research.google.com/assets/colab-badge.svg\" alt=\"Open In Colab\"/></a>"
      ]
    },
    {
      "cell_type": "markdown",
      "source": [
        "Value at risk"
      ],
      "metadata": {
        "id": "x83nV0QrG5eg"
      }
    },
    {
      "cell_type": "code",
      "execution_count": null,
      "metadata": {
        "id": "ikWKsIA-gC8P"
      },
      "outputs": [],
      "source": [
        "import numpy as np\n",
        "import pandas as pd\n",
        "import matplotlib.pyplot as plt\n",
        "import yfinance as yf\n",
        "import datetime as dt\n",
        "from scipy.stats import norm"
      ]
    },
    {
      "cell_type": "code",
      "source": [
        "def download_data(stock, start_date, end_date):\n",
        "  data = {}\n",
        "  ticker = yf.download(stock, start_date, end_date, auto_adjust= False)\n",
        "  #This is a line of code I added to handle changes with yfinance library\n",
        "  ticker = ticker.xs(stock, axis= 1, level= 'Ticker')\n",
        "  data[stock] = ticker['Adj Close']\n",
        "  #ticker = ticker.rename(columns= {'Adj Close': stock})\n",
        "  return pd.DataFrame(data)\n",
        "\n",
        "#To calculate the value at risk tomorrow (n=1)\n",
        "def calc_VaR(position, c, mu, signma):\n",
        "  var = position * (mu - signma * norm.ppf(1-c))\n",
        "  return var\n",
        "\n",
        "#To calculate the value at risk tfor any days in the future (n=1)\n",
        "def calc_VaR_n(position, c, mu, signma, n):\n",
        "  var = position * (mu*n - signma * np.sqrt(n) * norm.ppf(1-c))\n",
        "  return var\n",
        "\n",
        "if __name__ == '__main__':\n",
        "\n",
        "  start = dt.datetime(2014, 1, 1)\n",
        "  end = dt.datetime(2018, 1, 1)\n",
        "\n",
        "  stock_data = download_data('C', start, end)\n",
        "  #print(stock_data)\n",
        "\n",
        "  stock_data['returns'] = np.log(stock_data['C'] / stock_data['C'].shift(1))\n",
        "  stock_data = stock_data.dropna()\n",
        "\n",
        "  #Define investment scenario\n",
        "  S= 1e6 #investing 1 million dollars\n",
        "  c= 0.95 #confidence level of 95%\n",
        "\n",
        "  #Assume that daily returns are normally distibuted\n",
        "  mu = np.mean(stock_data['returns'])\n",
        "  signma = np.std(stock_data['returns'])\n",
        "  print()\n",
        "  print('The one day VaR (Value at Risk) is: $%0.2f' % calc_VaR(S, c, mu, signma))\n",
        "  print('The ten days VaR (Value at Risk) is: $%0.2f' % calc_VaR_n(S, c, mu, signma, 10))\n",
        "  print()\n",
        "  print(stock_data)\n"
      ],
      "metadata": {
        "id": "yfAlcDiiHHbx",
        "outputId": "3fb2fa61-a9c3-4340-a69b-a1c2ff393e6e",
        "colab": {
          "base_uri": "https://localhost:8080/"
        }
      },
      "execution_count": null,
      "outputs": [
        {
          "output_type": "stream",
          "name": "stderr",
          "text": [
            "\r[*********************100%***********************]  1 of 1 completed"
          ]
        },
        {
          "output_type": "stream",
          "name": "stdout",
          "text": [
            "\n",
            "The one day VaR (Value at Risk) is: $25396.71\n",
            "The ten days VaR (Value at Risk) is: $82897.97\n",
            "\n",
            "                    C   returns\n",
            "Date                           \n",
            "2014-01-03  40.842766  0.021388\n",
            "2014-01-06  41.156345  0.007648\n",
            "2014-01-07  41.439346  0.006853\n",
            "2014-01-08  41.921196  0.011561\n",
            "2014-01-09  42.219498  0.007091\n",
            "...               ...       ...\n",
            "2017-12-22  59.340660 -0.004362\n",
            "2017-12-26  58.782551 -0.009450\n",
            "2017-12-27  58.869026  0.001470\n",
            "2017-12-28  59.018379  0.002534\n",
            "2017-12-29  58.491714 -0.008964\n",
            "\n",
            "[1006 rows x 2 columns]\n"
          ]
        },
        {
          "output_type": "stream",
          "name": "stderr",
          "text": [
            "\n"
          ]
        }
      ]
    },
    {
      "cell_type": "markdown",
      "source": [
        "VaR Monte Carlo"
      ],
      "metadata": {
        "id": "gRf1r6gJPETj"
      }
    },
    {
      "cell_type": "code",
      "source": [
        "def download_data(stock, start_date, end_date):\n",
        "  data = {}\n",
        "  ticker = yf.download(stock, start_date, end_date, auto_adjust= False)\n",
        "  #This is a line of code I added to handle changes with yfinance library\n",
        "  ticker = ticker.xs(stock, axis= 1, level= 'Ticker')\n",
        "  data[stock] = ticker['Adj Close']\n",
        "  #ticker = ticker.rename(columns= {'Adj Close': stock})\n",
        "  return pd.DataFrame(data)\n",
        "\n",
        "class VaR_Monte_Carlo:\n",
        "  def __init__(self, S, mu, sigma, c, n, iterations):\n",
        "    # this is the value of the investment at t = 0\n",
        "    self.S = S\n",
        "    self.mu = mu\n",
        "    self.sigma = sigma\n",
        "    self.c = c\n",
        "    self.n = n\n",
        "    self.iterations = iterations\n",
        "\n",
        "  def simulation(self):\n",
        "    rand = np.random.normal(0, 1, [1, self.iterations])\n",
        "    stock_price = self.S * np.exp(self.n * (self.mu - 0.5 * self.sigma ** 2) + self.sigma * np.sqrt(self.n) * rand)\n",
        "    #sort the stock prices, confidence level: 95% -> 5, 99% -> 1\n",
        "    stock_price = np.sort(stock_price)\n",
        "    percentile = np.percentile(stock_price, (1-self.c)*100)\n",
        "    return self.S - percentile\n",
        "\n",
        "if __name__ == '__main__':\n",
        "\n",
        "  S= 1e6\n",
        "  c= 0.99\n",
        "  n= 1\n",
        "  iterations = 100000\n",
        "\n",
        "  #Historical data\n",
        "  start = dt.datetime(2014, 1, 1)\n",
        "  end = dt.datetime(2017, 10, 15)\n",
        "\n",
        "  #Stock data\n",
        "  citi = download_data('C', start, end)\n",
        "  #citi['returns'] = citi['Adjust Close'].pct_change()\n",
        "  citi['returns'] = np.log(citi['C'] / citi['C'].shift(1))\n",
        "  citi = citi.dropna()\n",
        "\n",
        "  #get mean and std\n",
        "  mu = np.mean(citi['returns'])\n",
        "  sigma = np.std(citi['returns'])\n",
        "\n",
        "  model = VaR_Monte_Carlo(S, mu, sigma, c, n, iterations)\n",
        "  print()\n",
        "  print('VaR with Monte Carlo simulation: $%.2f' % model.simulation())"
      ],
      "metadata": {
        "id": "QB3UBRMrPHPH",
        "outputId": "0729ed4b-3d3b-4004-91c3-e4eb628a81b3",
        "colab": {
          "base_uri": "https://localhost:8080/"
        }
      },
      "execution_count": 41,
      "outputs": [
        {
          "output_type": "stream",
          "name": "stderr",
          "text": [
            "\r[*********************100%***********************]  1 of 1 completed"
          ]
        },
        {
          "output_type": "stream",
          "name": "stdout",
          "text": [
            "\n",
            "VaR with Monte Carlo simulation: $35217.12\n"
          ]
        },
        {
          "output_type": "stream",
          "name": "stderr",
          "text": [
            "\n"
          ]
        }
      ]
    }
  ]
}