{
  "cells": [
    {
      "cell_type": "markdown",
      "metadata": {
        "id": "view-in-github",
        "colab_type": "text"
      },
      "source": [
        "<a href=\"https://colab.research.google.com/github/5791nbm/FinCoLab/blob/main/bond_pricing.ipynb\" target=\"_parent\"><img src=\"https://colab.research.google.com/assets/colab-badge.svg\" alt=\"Open In Colab\"/></a>"
      ]
    },
    {
      "cell_type": "markdown",
      "source": [
        "Bonds:\n",
        "\n",
        "\n",
        "*   Zero Coupon Bond\n",
        "*   Coupon Bond\n",
        "\n"
      ],
      "metadata": {
        "id": "56aDvGtRxz_b"
      }
    },
    {
      "cell_type": "markdown",
      "source": [
        "Zero Coupon Bond"
      ],
      "metadata": {
        "id": "l1ER-jOB1aov"
      }
    },
    {
      "cell_type": "code",
      "source": [
        "class ZeroCouponBond:\n",
        "\n",
        "  def __init__(self, face_value, maturity, interest_rate):\n",
        "    # face value of the bond at maturity\n",
        "    self.face_value = face_value\n",
        "    # maturity of bond (years)\n",
        "    self.maturity = maturity\n",
        "    # interest rate (for discounting). Divide by 100 to make decimal\n",
        "    self.interest_rate = interest_rate / 100\n",
        "\n",
        "  def present_value(self, x, n):\n",
        "    return x / (1+self.interest_rate)**n\n",
        "    #n = 4\n",
        "\n",
        "  def calculate_price(self):\n",
        "    return self.present_value(self.face_value, self.maturity)\n",
        "\n",
        "if __name__ == '__main__':\n",
        "\n",
        "  bond = ZeroCouponBond(1000, 2, 4)\n",
        "  print('The price of a zero coupon bond in dollars is: %.2f' % bond.calculate_price())"
      ],
      "metadata": {
        "id": "Jzj6ud8Fx79s",
        "outputId": "e4c75159-40ae-4dc0-8539-9ac91062dad9",
        "colab": {
          "base_uri": "https://localhost:8080/"
        }
      },
      "execution_count": 20,
      "outputs": [
        {
          "output_type": "stream",
          "name": "stdout",
          "text": [
            "The price of a zero coupon bond in dollars is: 924.56\n"
          ]
        }
      ]
    },
    {
      "cell_type": "markdown",
      "source": [
        "Coupon Bond\n",
        "\n"
      ],
      "metadata": {
        "id": "5FT_Ko771d1t"
      }
    },
    {
      "cell_type": "code",
      "source": [
        "class CouponBond:\n",
        "\n",
        "  def __init__(self, face_value, maturity, interest_rate, annual_coupon_rate):\n",
        "    # face value of the bond at maturity\n",
        "    self.face_value = face_value\n",
        "    # maturity of bond (years)\n",
        "    self.maturity = maturity\n",
        "    # interest rate (for discounting). Divide by 100 to make decimal\n",
        "    self.interest_rate = interest_rate / 100\n",
        "    # coupon payment rate. Divide by 100 to make decimal\n",
        "    self.annual_coupon_rate = annual_coupon_rate / 100\n",
        "\n",
        "  def present_value(self, x, n):\n",
        "    return x / (1+self.interest_rate)**n\n",
        "\n",
        "  def calculate_price(self):\n",
        "    #get PV of coupon payments\n",
        "    coupon_price = 0\n",
        "    for t in range(1, self.maturity+1):\n",
        "      coupon_price = coupon_price + self.present_value(self.face_value * self.annual_coupon_rate, t)\n",
        "\n",
        "    #get PV of face value\n",
        "    face_value_price = self.present_value(self.face_value, self.maturity)\n",
        "\n",
        "    return coupon_price + face_value_price\n",
        "\n",
        "\n",
        "if __name__ == '__main__':\n",
        "\n",
        "  bond = CouponBond(1000, 3, 4, 10)\n",
        "  print('The price of a coupon bond in dollars is: %.2f' % bond.calculate_price())\n"
      ],
      "metadata": {
        "id": "pbazR8GM1fvE",
        "outputId": "e110c916-16cb-43ac-9212-8fbf88a66a2b",
        "colab": {
          "base_uri": "https://localhost:8080/"
        }
      },
      "execution_count": 27,
      "outputs": [
        {
          "output_type": "stream",
          "name": "stdout",
          "text": [
            "The price of a coupon bond in dollars is: 1166.51\n"
          ]
        }
      ]
    }
  ],
  "metadata": {
    "colab": {
      "name": "Welcome To Colab",
      "toc_visible": true,
      "provenance": [],
      "include_colab_link": true
    },
    "kernelspec": {
      "display_name": "Python 3",
      "name": "python3"
    }
  },
  "nbformat": 4,
  "nbformat_minor": 0
}